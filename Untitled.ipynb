{
  "nbformat": 4,
  "nbformat_minor": 0,
  "metadata": {
    "colab": {
      "provenance": [],
      "toc_visible": true,
      "authorship_tag": "ABX9TyNdOMT0SSaVb8vpkmUrEJrp",
      "include_colab_link": true
    },
    "kernelspec": {
      "name": "python3",
      "display_name": "Python 3"
    },
    "language_info": {
      "name": "python"
    }
  },
  "cells": [
    {
      "cell_type": "markdown",
      "metadata": {
        "id": "view-in-github",
        "colab_type": "text"
      },
      "source": [
        "<a href=\"https://colab.research.google.com/github/Akaswww/Akaswww/blob/main/Untitled.ipynb\" target=\"_parent\"><img src=\"https://colab.research.google.com/assets/colab-badge.svg\" alt=\"Open In Colab\"/></a>"
      ]
    },
    {
      "cell_type": "code",
      "execution_count": null,
      "metadata": {
        "colab": {
          "base_uri": "https://localhost:8080/"
        },
        "id": "aINwFceREZsi",
        "outputId": "8d11b211-16a6-4cf1-c1f6-d5b2f319746d"
      },
      "outputs": [
        {
          "output_type": "stream",
          "name": "stdout",
          "text": [
            "    name  marks      City\n",
            "0  Akash     98  Dehradun\n",
            "1  Harry     76    Jaipur\n",
            "2  Rohan     45      Kota\n",
            "3    Ram     91  Srinagar\n"
          ]
        }
      ],
      "source": [
        "import numpy as np\n",
        "import pandas as pd\n",
        "dict1 = {\n",
        "    'name': ['Akash', 'Harry', 'Rohan', 'Ram'],\n",
        "    'marks': [98, 76, 45, 91],\n",
        "    'City': ['Dehradun', 'Jaipur', 'Kota', 'Srinagar']\n",
        "}\n",
        "df = pd.DataFrame(dict1)\n",
        "print(df)\n",
        "\n"
      ]
    }
  ]
}